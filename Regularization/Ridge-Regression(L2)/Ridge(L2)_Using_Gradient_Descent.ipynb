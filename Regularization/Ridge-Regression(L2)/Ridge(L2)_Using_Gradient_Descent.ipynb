{
 "cells": [
  {
   "cell_type": "code",
   "execution_count": 1,
   "metadata": {},
   "outputs": [],
   "source": [
    "from sklearn.datasets import load_diabetes\n",
    "from sklearn.metrics import r2_score\n",
    "import numpy as np"
   ]
  },
  {
   "cell_type": "code",
   "execution_count": 2,
   "metadata": {},
   "outputs": [],
   "source": [
    "X,Y = load_diabetes(return_X_y=True)\n",
    "from sklearn.model_selection import train_test_split\n",
    "X_train,X_test,Y_train,Y_test = train_test_split(X,Y,test_size=0.2,random_state=4)"
   ]
  },
  {
   "cell_type": "code",
   "execution_count": 3,
   "metadata": {},
   "outputs": [],
   "source": [
    "from sklearn.linear_model import SGDRegressor"
   ]
  },
  {
   "cell_type": "code",
   "execution_count": 4,
   "metadata": {},
   "outputs": [],
   "source": [
    "reg = SGDRegressor(penalty='l2',max_iter=500,eta0=0.1,learning_rate='constant',alpha=0.001)"
   ]
  },
  {
   "cell_type": "code",
   "execution_count": 5,
   "metadata": {},
   "outputs": [
    {
     "name": "stdout",
     "output_type": "stream",
     "text": [
      "R2_Score 0.4584086815101208\n",
      "[  53.07395506 -139.72318297  359.5413169   264.81592477    0.8818442\n",
      "  -52.14039676 -168.7275051   140.25457094  325.5842867   105.47418323]\n",
      "[156.04108588]\n"
     ]
    }
   ],
   "source": [
    "reg.fit(X_train,Y_train)\n",
    "\n",
    "Y_pred = reg.predict(X_test)\n",
    "print('R2_Score',r2_score(Y_test,Y_pred))\n",
    "print(reg.coef_)\n",
    "print(reg.intercept_)"
   ]
  },
  {
   "cell_type": "code",
   "execution_count": 6,
   "metadata": {},
   "outputs": [],
   "source": [
    "from sklearn.linear_model import Ridge\n",
    "\n",
    "reg = Ridge(alpha=0.001,max_iter=500,solver='sparse_cg')"
   ]
  },
  {
   "cell_type": "code",
   "execution_count": 7,
   "metadata": {},
   "outputs": [
    {
     "name": "stdout",
     "output_type": "stream",
     "text": [
      "R2_Score 0.46250101619914563\n",
      "[  34.52192544 -290.84084076  482.40181344  368.0678662  -852.44873179\n",
      "  501.59160336  180.11115788  270.76333979  759.73534372   37.4913546 ]\n",
      "151.10198517439466\n"
     ]
    }
   ],
   "source": [
    "reg.fit(X_train,Y_train)\n",
    "\n",
    "Y_pred = reg.predict(X_test)\n",
    "print(\"R2_Score\",r2_score(Y_test,Y_pred))\n",
    "print(reg.coef_)\n",
    "print(reg.intercept_)"
   ]
  },
  {
   "cell_type": "code",
   "execution_count": 9,
   "metadata": {},
   "outputs": [],
   "source": [
    "class Scratch_Ridge_Gradient_Descent:\n",
    "\n",
    "    def __init__(self,epochs,learning_rate,alpha):\n",
    "        self.epochs = epochs\n",
    "        self.learning_rate = learning_rate\n",
    "        self.alpha=alpha\n",
    "        self.coef = None\n",
    "        self.intercept = None\n",
    "\n",
    "    def fit(self,X_train,Y_train):\n",
    "\n",
    "        self.coef = np.ones(X_train.shape[1])\n",
    "        self.intercept = 0\n",
    "        theta_matrix = np.insert(self.coef,0,self.intercept) # n+1 \n",
    "\n",
    "        X_train = np.insert(X_train,0,1,axis=1)\n",
    "\n",
    "        for i in range(self.epochs):\n",
    "            theta_der = np.dot(X_train.T,X_train).dot(theta_matrix) - np.dot(X_train.T,Y_train) - self.alpha*theta_matrix\n",
    "            theta_matrix = theta_matrix - self.learning_rate*theta_der\n",
    "\n",
    "        self.coef = theta_matrix[1:]\n",
    "        self.intercept = theta_matrix[0]\n",
    "\n",
    "    def predict(self,X_test):\n",
    "\n",
    "        return np.dot(X_test,self.coef) + self.intercept"
   ]
  },
  {
   "cell_type": "code",
   "execution_count": 10,
   "metadata": {},
   "outputs": [],
   "source": [
    "reg = Scratch_Ridge_Gradient_Descent(epochs=500,alpha=0.001,learning_rate=0.005)"
   ]
  },
  {
   "cell_type": "code",
   "execution_count": 11,
   "metadata": {},
   "outputs": [],
   "source": [
    "reg.fit(X_train,Y_train)"
   ]
  },
  {
   "cell_type": "code",
   "execution_count": 12,
   "metadata": {},
   "outputs": [
    {
     "name": "stdout",
     "output_type": "stream",
     "text": [
      "R2 Score: 0.4738656144627875\n",
      "[  46.62140947 -221.88627741  452.72916665  325.94986339  -29.28550185\n",
      "  -96.76767049 -191.05382527  146.37675246  401.31596569   95.03232584]\n",
      "150.8690793692947\n"
     ]
    }
   ],
   "source": [
    "Y_pred = reg.predict(X_test)\n",
    "print(\"R2 Score:\",r2_score(Y_test,Y_pred))\n",
    "print(reg.coef)\n",
    "print(reg.intercept)"
   ]
  },
  {
   "cell_type": "code",
   "execution_count": null,
   "metadata": {},
   "outputs": [],
   "source": []
  }
 ],
 "metadata": {
  "kernelspec": {
   "display_name": "Python 3",
   "language": "python",
   "name": "python3"
  },
  "language_info": {
   "codemirror_mode": {
    "name": "ipython",
    "version": 3
   },
   "file_extension": ".py",
   "mimetype": "text/x-python",
   "name": "python",
   "nbconvert_exporter": "python",
   "pygments_lexer": "ipython3",
   "version": "3.10.12"
  },
  "orig_nbformat": 4
 },
 "nbformat": 4,
 "nbformat_minor": 2
}
