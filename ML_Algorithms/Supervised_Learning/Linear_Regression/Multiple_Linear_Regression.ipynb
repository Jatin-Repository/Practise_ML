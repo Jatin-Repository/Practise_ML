{
 "cells": [
  {
   "cell_type": "code",
   "execution_count": 1,
   "metadata": {},
   "outputs": [],
   "source": [
    "from sklearn.datasets import make_regression\n",
    "\n",
    "import numpy as np\n",
    "import pandas as pd\n",
    "\n",
    "import plotly.express as px\n",
    "import plotly.graph_objects as go\n",
    "\n",
    "from sklearn.metrics import mean_absolute_error,mean_squared_error,r2_score"
   ]
  },
  {
   "cell_type": "code",
   "execution_count": 2,
   "metadata": {},
   "outputs": [],
   "source": [
    "X,Y = make_regression(n_samples=100,n_features=2,n_informative=2,n_targets=1,noise=50)"
   ]
  },
  {
   "cell_type": "code",
   "execution_count": 3,
   "metadata": {},
   "outputs": [],
   "source": [
    "df = pd.DataFrame({'feature1':X[:,0],'feature2':X[:,1],'target':Y})"
   ]
  },
  {
   "cell_type": "code",
   "execution_count": 4,
   "metadata": {},
   "outputs": [
    {
     "data": {
      "text/html": [
       "<div>\n",
       "<style scoped>\n",
       "    .dataframe tbody tr th:only-of-type {\n",
       "        vertical-align: middle;\n",
       "    }\n",
       "\n",
       "    .dataframe tbody tr th {\n",
       "        vertical-align: top;\n",
       "    }\n",
       "\n",
       "    .dataframe thead th {\n",
       "        text-align: right;\n",
       "    }\n",
       "</style>\n",
       "<table border=\"1\" class=\"dataframe\">\n",
       "  <thead>\n",
       "    <tr style=\"text-align: right;\">\n",
       "      <th></th>\n",
       "      <th>feature1</th>\n",
       "      <th>feature2</th>\n",
       "      <th>target</th>\n",
       "    </tr>\n",
       "  </thead>\n",
       "  <tbody>\n",
       "    <tr>\n",
       "      <th>0</th>\n",
       "      <td>-0.899519</td>\n",
       "      <td>0.086648</td>\n",
       "      <td>-77.575749</td>\n",
       "    </tr>\n",
       "    <tr>\n",
       "      <th>1</th>\n",
       "      <td>-0.182858</td>\n",
       "      <td>0.678803</td>\n",
       "      <td>4.557544</td>\n",
       "    </tr>\n",
       "    <tr>\n",
       "      <th>2</th>\n",
       "      <td>-0.419063</td>\n",
       "      <td>0.567180</td>\n",
       "      <td>-47.293969</td>\n",
       "    </tr>\n",
       "    <tr>\n",
       "      <th>3</th>\n",
       "      <td>0.198753</td>\n",
       "      <td>0.807719</td>\n",
       "      <td>69.482895</td>\n",
       "    </tr>\n",
       "    <tr>\n",
       "      <th>4</th>\n",
       "      <td>-0.116145</td>\n",
       "      <td>0.642872</td>\n",
       "      <td>-55.331062</td>\n",
       "    </tr>\n",
       "    <tr>\n",
       "      <th>...</th>\n",
       "      <td>...</td>\n",
       "      <td>...</td>\n",
       "      <td>...</td>\n",
       "    </tr>\n",
       "    <tr>\n",
       "      <th>95</th>\n",
       "      <td>-0.764820</td>\n",
       "      <td>1.606575</td>\n",
       "      <td>26.976455</td>\n",
       "    </tr>\n",
       "    <tr>\n",
       "      <th>96</th>\n",
       "      <td>-1.361956</td>\n",
       "      <td>0.096661</td>\n",
       "      <td>-31.554250</td>\n",
       "    </tr>\n",
       "    <tr>\n",
       "      <th>97</th>\n",
       "      <td>-0.486563</td>\n",
       "      <td>1.159033</td>\n",
       "      <td>-68.841114</td>\n",
       "    </tr>\n",
       "    <tr>\n",
       "      <th>98</th>\n",
       "      <td>0.769703</td>\n",
       "      <td>0.034186</td>\n",
       "      <td>31.850238</td>\n",
       "    </tr>\n",
       "    <tr>\n",
       "      <th>99</th>\n",
       "      <td>-1.544740</td>\n",
       "      <td>0.379805</td>\n",
       "      <td>-119.014168</td>\n",
       "    </tr>\n",
       "  </tbody>\n",
       "</table>\n",
       "<p>100 rows × 3 columns</p>\n",
       "</div>"
      ],
      "text/plain": [
       "    feature1  feature2      target\n",
       "0  -0.899519  0.086648  -77.575749\n",
       "1  -0.182858  0.678803    4.557544\n",
       "2  -0.419063  0.567180  -47.293969\n",
       "3   0.198753  0.807719   69.482895\n",
       "4  -0.116145  0.642872  -55.331062\n",
       "..       ...       ...         ...\n",
       "95 -0.764820  1.606575   26.976455\n",
       "96 -1.361956  0.096661  -31.554250\n",
       "97 -0.486563  1.159033  -68.841114\n",
       "98  0.769703  0.034186   31.850238\n",
       "99 -1.544740  0.379805 -119.014168\n",
       "\n",
       "[100 rows x 3 columns]"
      ]
     },
     "execution_count": 4,
     "metadata": {},
     "output_type": "execute_result"
    }
   ],
   "source": [
    "df"
   ]
  },
  {
   "cell_type": "code",
   "execution_count": 5,
   "metadata": {},
   "outputs": [
    {
     "data": {
      "text/html": [
       "<div>\n",
       "<style scoped>\n",
       "    .dataframe tbody tr th:only-of-type {\n",
       "        vertical-align: middle;\n",
       "    }\n",
       "\n",
       "    .dataframe tbody tr th {\n",
       "        vertical-align: top;\n",
       "    }\n",
       "\n",
       "    .dataframe thead th {\n",
       "        text-align: right;\n",
       "    }\n",
       "</style>\n",
       "<table border=\"1\" class=\"dataframe\">\n",
       "  <thead>\n",
       "    <tr style=\"text-align: right;\">\n",
       "      <th></th>\n",
       "      <th>feature1</th>\n",
       "      <th>feature2</th>\n",
       "      <th>target</th>\n",
       "    </tr>\n",
       "  </thead>\n",
       "  <tbody>\n",
       "    <tr>\n",
       "      <th>23</th>\n",
       "      <td>0.214422</td>\n",
       "      <td>-1.328339</td>\n",
       "      <td>48.733183</td>\n",
       "    </tr>\n",
       "    <tr>\n",
       "      <th>53</th>\n",
       "      <td>0.459946</td>\n",
       "      <td>-0.079417</td>\n",
       "      <td>-2.382701</td>\n",
       "    </tr>\n",
       "    <tr>\n",
       "      <th>33</th>\n",
       "      <td>0.709892</td>\n",
       "      <td>-0.696720</td>\n",
       "      <td>-73.343867</td>\n",
       "    </tr>\n",
       "    <tr>\n",
       "      <th>99</th>\n",
       "      <td>-1.544740</td>\n",
       "      <td>0.379805</td>\n",
       "      <td>-119.014168</td>\n",
       "    </tr>\n",
       "    <tr>\n",
       "      <th>82</th>\n",
       "      <td>-0.715868</td>\n",
       "      <td>0.888814</td>\n",
       "      <td>5.850749</td>\n",
       "    </tr>\n",
       "  </tbody>\n",
       "</table>\n",
       "</div>"
      ],
      "text/plain": [
       "    feature1  feature2      target\n",
       "23  0.214422 -1.328339   48.733183\n",
       "53  0.459946 -0.079417   -2.382701\n",
       "33  0.709892 -0.696720  -73.343867\n",
       "99 -1.544740  0.379805 -119.014168\n",
       "82 -0.715868  0.888814    5.850749"
      ]
     },
     "execution_count": 5,
     "metadata": {},
     "output_type": "execute_result"
    }
   ],
   "source": [
    "df.sample(5)"
   ]
  },
  {
   "cell_type": "code",
   "execution_count": 6,
   "metadata": {},
   "outputs": [
    {
     "data": {
      "application/vnd.plotly.v1+json": {
       "config": {
        "plotlyServerURL": "https://plot.ly"
       },
       "data": [
        {
         "hovertemplate": "feature1=%{x}<br>feature2=%{y}<br>target=%{z}<extra></extra>",
         "legendgroup": "",
         "marker": {
          "color": "#636efa",
          "symbol": "circle"
         },
         "mode": "markers",
         "name": "",
         "scene": "scene",
         "showlegend": false,
         "type": "scatter3d",
         "x": [
          -0.899519131179687,
          -0.18285840485100638,
          -0.41906256597518277,
          0.19875335619421655,
          -0.11614501413173126,
          -1.1084259547223576,
          -2.3205403035923737,
          0.21577979604428577,
          0.8479091957327475,
          -0.6009115593843207,
          -1.8144518885214698,
          -1.0967940216174932,
          2.6396283770677638,
          1.2297896865879099,
          -0.43485487613199403,
          -1.1338634665489364,
          0.5951872049316649,
          -0.5811819344965022,
          0.318966372157575,
          -1.3881575684207832,
          -0.5554110301534794,
          0.2380680113948226,
          1.871419829008991,
          0.21442162400763606,
          1.9394822372036442,
          0.023179856153328623,
          -0.35112493184234767,
          0.6774743921742069,
          -0.21468842049274275,
          -0.7837184733141802,
          -1.55280893822463,
          1.3196501358631407,
          0.8442767105274931,
          0.7098920422392596,
          -0.3334164089813225,
          0.3783344447339011,
          2.5113313536626567,
          0.268676065646879,
          2.5243712498438704,
          -0.4018294622269648,
          -1.2605062328083596,
          0.6017795150706607,
          -0.27439428182221776,
          0.3452146730069823,
          0.030917101742063798,
          0.943982541353672,
          1.3404403500509572,
          -0.7270650640349928,
          1.4443566824089726,
          0.23190940366844978,
          -0.19294397347144296,
          -0.8313621526332058,
          -0.6929343689946057,
          0.45994627363647783,
          -0.16213325644503868,
          0.46841221663351135,
          -0.26514373757788307,
          1.9755400531818605,
          0.5827808347763274,
          0.4997656121352898,
          -1.6741072876234404,
          -0.22864025217215256,
          0.4940529378817258,
          -0.7431134426258612,
          -1.8499063476012858,
          -2.0843397855347923,
          -0.26430519779602046,
          0.5119103246094223,
          0.4663701574283885,
          -0.04601721488487511,
          1.2992538286185376,
          0.9535432064304703,
          -0.0037590248479592403,
          -0.0814053757616865,
          -0.7076835910612047,
          -1.4500709252412833,
          -0.5682294262953188,
          0.6502013730301539,
          -0.8203052537214239,
          -1.5265721723561552,
          1.2073687131977426,
          -0.8078146579849088,
          -0.7158681536452702,
          0.25791833621213717,
          -0.17914559036288114,
          1.543524435022433,
          0.06342172268765366,
          -1.1274122220288538,
          -0.09362883491862432,
          -1.4012900148086052,
          2.1460051532039413,
          1.883666563223615,
          -0.022747129173397166,
          0.9837395652937183,
          0.3527730016403757,
          -0.7648200136308864,
          -1.3619556661534873,
          -0.48656287679344956,
          0.7697030988353997,
          -1.5447398005392106
         ],
         "y": [
          0.08664768260975755,
          0.6788032273596999,
          0.5671798582075994,
          0.8077190210944474,
          0.6428720359453426,
          -0.47785817350403437,
          0.2854553388563236,
          0.6418871296766888,
          0.31876843679799055,
          0.9814136211351513,
          0.18757568509515085,
          -0.25569217105938336,
          0.62285934004656,
          -0.2594167535830305,
          -0.8074764041246016,
          1.890746848795172,
          1.9373603512431896,
          1.0877609372046546,
          -0.5111498352580849,
          1.0270030325877795,
          -1.4009276733936502,
          1.7891328578439165,
          0.20849900430103138,
          -1.3283394452704271,
          -0.19412803680298774,
          -0.776635328424207,
          1.8261727680577995,
          0.6917260859732096,
          1.9832584465910104,
          -0.5482555653607675,
          0.9447533195297768,
          0.8728129722116539,
          0.2434903242322471,
          -0.6967200532530228,
          0.39287735054379613,
          0.22548730892793217,
          2.0166072406648565,
          -1.7406388267744441,
          -0.46024284975927576,
          -0.4307764504274123,
          -0.02893294224488914,
          -0.25818419627101835,
          -2.2818270439754804,
          1.0381933721643974,
          -0.38758701556921776,
          0.38512767155351824,
          0.6544684369443056,
          -1.2048672244846843,
          -1.5697658214839354,
          0.7232571771571539,
          0.33598213175989244,
          -1.9007591475236034,
          1.6724754367162054,
          -0.07941739502334182,
          -0.046870526653800794,
          -0.7242007512264206,
          1.1889460177843598,
          -1.165727361873498,
          -0.13905950219754948,
          0.2926542106942891,
          0.03320806026846351,
          0.6656905497396218,
          -1.3324785403697368,
          0.5405944695438621,
          -1.1019214461830238,
          -0.3061879069814928,
          -0.4597958268439907,
          -0.48736151366598635,
          -0.727428985913648,
          1.3121962900666322,
          -0.38563958660530134,
          0.807253864084005,
          -1.411329027553085,
          0.04356415928609336,
          -0.3126477433964824,
          -2.4399706558068286,
          0.44781158887444983,
          -1.165397791463098,
          0.08691840706512198,
          -0.37222346257586525,
          -0.11221165477374165,
          -1.033958043481278,
          0.8888137973979792,
          0.9199795888551899,
          0.10067417301509465,
          0.10500893740544477,
          -0.8734621933707475,
          -0.928280926138754,
          -0.06526474947610934,
          0.9061996326777704,
          -1.1656391050917125,
          0.18377344229816422,
          -0.6531074779546509,
          0.007782175324857585,
          -1.719124670319954,
          1.6065750296009362,
          0.09666081592060348,
          1.1590327163882264,
          0.03418581931929378,
          0.37980504215050015
         ],
         "z": [
          -77.57574875662134,
          4.557543711999707,
          -47.29396877234282,
          69.48289544009629,
          -55.33106207080122,
          -102.52248141387113,
          -243.06719060025677,
          68.41823804899064,
          127.40074904090557,
          -91.57451970416034,
          -48.26683829282341,
          -123.00456534086806,
          247.3034541997395,
          111.35239675923047,
          -11.365299200408387,
          -11.012930100871078,
          85.72019090995576,
          5.544842491366765,
          -51.237456135858494,
          -102.16937962868002,
          -63.58592714014744,
          103.14358472764395,
          142.89369102159472,
          48.733182704354064,
          190.75178563758166,
          -2.978948505520858,
          -76.68672236887778,
          105.66584362330232,
          -1.2610853688706243,
          -36.633555732795216,
          -113.47709613626206,
          107.0498897188726,
          109.61271277006153,
          -73.34386650946081,
          -70.70291350881692,
          16.194925786250813,
          256.4182182558741,
          -2.8888721408617144,
          223.52229247544315,
          38.89337431425122,
          -63.605454757148564,
          63.246342451921194,
          -39.93314278314688,
          166.68087732525703,
          -23.022261605449522,
          105.91390466039128,
          135.59663225888883,
          -69.84353112434967,
          48.72687364353411,
          55.61217110994606,
          -108.37427092077832,
          -26.611097736979076,
          42.39630210475897,
          -2.3827008324735317,
          34.51511824716765,
          -15.451260822905002,
          -20.002711212669205,
          244.79822446348723,
          -45.065540486019984,
          128.20782837182892,
          -109.3431137156484,
          54.30664452301348,
          -37.32845083749397,
          -0.01839178817537146,
          -303.2157274158051,
          -197.50353758277194,
          -10.11275414722229,
          85.16775803237192,
          81.40284429452231,
          72.68437198997151,
          142.59108719235235,
          80.29112046226352,
          -35.540804026722036,
          79.73158773738919,
          -152.90268268610154,
          -295.09298290370214,
          -53.49837230125494,
          88.38276546180019,
          -90.93682972987396,
          -156.89210802024095,
          105.49935411928305,
          -115.04732477673797,
          5.85074861380788,
          67.05876389078719,
          -58.76370798610223,
          106.0844772841749,
          16.604588839728432,
          -106.69632375667331,
          7.489880911564242,
          -79.49624938313168,
          253.819774183967,
          133.04386840632893,
          -0.6086644862670809,
          14.183961821999418,
          -39.187726897927455,
          26.97645476112707,
          -31.554249616095092,
          -68.84111439053645,
          31.850237552324863,
          -119.01416843550479
         ]
        }
       ],
       "layout": {
        "legend": {
         "tracegroupgap": 0
        },
        "margin": {
         "t": 60
        },
        "scene": {
         "domain": {
          "x": [
           0,
           1
          ],
          "y": [
           0,
           1
          ]
         },
         "xaxis": {
          "title": {
           "text": "feature1"
          }
         },
         "yaxis": {
          "title": {
           "text": "feature2"
          }
         },
         "zaxis": {
          "title": {
           "text": "target"
          }
         }
        },
        "template": {
         "data": {
          "bar": [
           {
            "error_x": {
             "color": "#2a3f5f"
            },
            "error_y": {
             "color": "#2a3f5f"
            },
            "marker": {
             "line": {
              "color": "#E5ECF6",
              "width": 0.5
             },
             "pattern": {
              "fillmode": "overlay",
              "size": 10,
              "solidity": 0.2
             }
            },
            "type": "bar"
           }
          ],
          "barpolar": [
           {
            "marker": {
             "line": {
              "color": "#E5ECF6",
              "width": 0.5
             },
             "pattern": {
              "fillmode": "overlay",
              "size": 10,
              "solidity": 0.2
             }
            },
            "type": "barpolar"
           }
          ],
          "carpet": [
           {
            "aaxis": {
             "endlinecolor": "#2a3f5f",
             "gridcolor": "white",
             "linecolor": "white",
             "minorgridcolor": "white",
             "startlinecolor": "#2a3f5f"
            },
            "baxis": {
             "endlinecolor": "#2a3f5f",
             "gridcolor": "white",
             "linecolor": "white",
             "minorgridcolor": "white",
             "startlinecolor": "#2a3f5f"
            },
            "type": "carpet"
           }
          ],
          "choropleth": [
           {
            "colorbar": {
             "outlinewidth": 0,
             "ticks": ""
            },
            "type": "choropleth"
           }
          ],
          "contour": [
           {
            "colorbar": {
             "outlinewidth": 0,
             "ticks": ""
            },
            "colorscale": [
             [
              0,
              "#0d0887"
             ],
             [
              0.1111111111111111,
              "#46039f"
             ],
             [
              0.2222222222222222,
              "#7201a8"
             ],
             [
              0.3333333333333333,
              "#9c179e"
             ],
             [
              0.4444444444444444,
              "#bd3786"
             ],
             [
              0.5555555555555556,
              "#d8576b"
             ],
             [
              0.6666666666666666,
              "#ed7953"
             ],
             [
              0.7777777777777778,
              "#fb9f3a"
             ],
             [
              0.8888888888888888,
              "#fdca26"
             ],
             [
              1,
              "#f0f921"
             ]
            ],
            "type": "contour"
           }
          ],
          "contourcarpet": [
           {
            "colorbar": {
             "outlinewidth": 0,
             "ticks": ""
            },
            "type": "contourcarpet"
           }
          ],
          "heatmap": [
           {
            "colorbar": {
             "outlinewidth": 0,
             "ticks": ""
            },
            "colorscale": [
             [
              0,
              "#0d0887"
             ],
             [
              0.1111111111111111,
              "#46039f"
             ],
             [
              0.2222222222222222,
              "#7201a8"
             ],
             [
              0.3333333333333333,
              "#9c179e"
             ],
             [
              0.4444444444444444,
              "#bd3786"
             ],
             [
              0.5555555555555556,
              "#d8576b"
             ],
             [
              0.6666666666666666,
              "#ed7953"
             ],
             [
              0.7777777777777778,
              "#fb9f3a"
             ],
             [
              0.8888888888888888,
              "#fdca26"
             ],
             [
              1,
              "#f0f921"
             ]
            ],
            "type": "heatmap"
           }
          ],
          "heatmapgl": [
           {
            "colorbar": {
             "outlinewidth": 0,
             "ticks": ""
            },
            "colorscale": [
             [
              0,
              "#0d0887"
             ],
             [
              0.1111111111111111,
              "#46039f"
             ],
             [
              0.2222222222222222,
              "#7201a8"
             ],
             [
              0.3333333333333333,
              "#9c179e"
             ],
             [
              0.4444444444444444,
              "#bd3786"
             ],
             [
              0.5555555555555556,
              "#d8576b"
             ],
             [
              0.6666666666666666,
              "#ed7953"
             ],
             [
              0.7777777777777778,
              "#fb9f3a"
             ],
             [
              0.8888888888888888,
              "#fdca26"
             ],
             [
              1,
              "#f0f921"
             ]
            ],
            "type": "heatmapgl"
           }
          ],
          "histogram": [
           {
            "marker": {
             "pattern": {
              "fillmode": "overlay",
              "size": 10,
              "solidity": 0.2
             }
            },
            "type": "histogram"
           }
          ],
          "histogram2d": [
           {
            "colorbar": {
             "outlinewidth": 0,
             "ticks": ""
            },
            "colorscale": [
             [
              0,
              "#0d0887"
             ],
             [
              0.1111111111111111,
              "#46039f"
             ],
             [
              0.2222222222222222,
              "#7201a8"
             ],
             [
              0.3333333333333333,
              "#9c179e"
             ],
             [
              0.4444444444444444,
              "#bd3786"
             ],
             [
              0.5555555555555556,
              "#d8576b"
             ],
             [
              0.6666666666666666,
              "#ed7953"
             ],
             [
              0.7777777777777778,
              "#fb9f3a"
             ],
             [
              0.8888888888888888,
              "#fdca26"
             ],
             [
              1,
              "#f0f921"
             ]
            ],
            "type": "histogram2d"
           }
          ],
          "histogram2dcontour": [
           {
            "colorbar": {
             "outlinewidth": 0,
             "ticks": ""
            },
            "colorscale": [
             [
              0,
              "#0d0887"
             ],
             [
              0.1111111111111111,
              "#46039f"
             ],
             [
              0.2222222222222222,
              "#7201a8"
             ],
             [
              0.3333333333333333,
              "#9c179e"
             ],
             [
              0.4444444444444444,
              "#bd3786"
             ],
             [
              0.5555555555555556,
              "#d8576b"
             ],
             [
              0.6666666666666666,
              "#ed7953"
             ],
             [
              0.7777777777777778,
              "#fb9f3a"
             ],
             [
              0.8888888888888888,
              "#fdca26"
             ],
             [
              1,
              "#f0f921"
             ]
            ],
            "type": "histogram2dcontour"
           }
          ],
          "mesh3d": [
           {
            "colorbar": {
             "outlinewidth": 0,
             "ticks": ""
            },
            "type": "mesh3d"
           }
          ],
          "parcoords": [
           {
            "line": {
             "colorbar": {
              "outlinewidth": 0,
              "ticks": ""
             }
            },
            "type": "parcoords"
           }
          ],
          "pie": [
           {
            "automargin": true,
            "type": "pie"
           }
          ],
          "scatter": [
           {
            "fillpattern": {
             "fillmode": "overlay",
             "size": 10,
             "solidity": 0.2
            },
            "type": "scatter"
           }
          ],
          "scatter3d": [
           {
            "line": {
             "colorbar": {
              "outlinewidth": 0,
              "ticks": ""
             }
            },
            "marker": {
             "colorbar": {
              "outlinewidth": 0,
              "ticks": ""
             }
            },
            "type": "scatter3d"
           }
          ],
          "scattercarpet": [
           {
            "marker": {
             "colorbar": {
              "outlinewidth": 0,
              "ticks": ""
             }
            },
            "type": "scattercarpet"
           }
          ],
          "scattergeo": [
           {
            "marker": {
             "colorbar": {
              "outlinewidth": 0,
              "ticks": ""
             }
            },
            "type": "scattergeo"
           }
          ],
          "scattergl": [
           {
            "marker": {
             "colorbar": {
              "outlinewidth": 0,
              "ticks": ""
             }
            },
            "type": "scattergl"
           }
          ],
          "scattermapbox": [
           {
            "marker": {
             "colorbar": {
              "outlinewidth": 0,
              "ticks": ""
             }
            },
            "type": "scattermapbox"
           }
          ],
          "scatterpolar": [
           {
            "marker": {
             "colorbar": {
              "outlinewidth": 0,
              "ticks": ""
             }
            },
            "type": "scatterpolar"
           }
          ],
          "scatterpolargl": [
           {
            "marker": {
             "colorbar": {
              "outlinewidth": 0,
              "ticks": ""
             }
            },
            "type": "scatterpolargl"
           }
          ],
          "scatterternary": [
           {
            "marker": {
             "colorbar": {
              "outlinewidth": 0,
              "ticks": ""
             }
            },
            "type": "scatterternary"
           }
          ],
          "surface": [
           {
            "colorbar": {
             "outlinewidth": 0,
             "ticks": ""
            },
            "colorscale": [
             [
              0,
              "#0d0887"
             ],
             [
              0.1111111111111111,
              "#46039f"
             ],
             [
              0.2222222222222222,
              "#7201a8"
             ],
             [
              0.3333333333333333,
              "#9c179e"
             ],
             [
              0.4444444444444444,
              "#bd3786"
             ],
             [
              0.5555555555555556,
              "#d8576b"
             ],
             [
              0.6666666666666666,
              "#ed7953"
             ],
             [
              0.7777777777777778,
              "#fb9f3a"
             ],
             [
              0.8888888888888888,
              "#fdca26"
             ],
             [
              1,
              "#f0f921"
             ]
            ],
            "type": "surface"
           }
          ],
          "table": [
           {
            "cells": {
             "fill": {
              "color": "#EBF0F8"
             },
             "line": {
              "color": "white"
             }
            },
            "header": {
             "fill": {
              "color": "#C8D4E3"
             },
             "line": {
              "color": "white"
             }
            },
            "type": "table"
           }
          ]
         },
         "layout": {
          "annotationdefaults": {
           "arrowcolor": "#2a3f5f",
           "arrowhead": 0,
           "arrowwidth": 1
          },
          "autotypenumbers": "strict",
          "coloraxis": {
           "colorbar": {
            "outlinewidth": 0,
            "ticks": ""
           }
          },
          "colorscale": {
           "diverging": [
            [
             0,
             "#8e0152"
            ],
            [
             0.1,
             "#c51b7d"
            ],
            [
             0.2,
             "#de77ae"
            ],
            [
             0.3,
             "#f1b6da"
            ],
            [
             0.4,
             "#fde0ef"
            ],
            [
             0.5,
             "#f7f7f7"
            ],
            [
             0.6,
             "#e6f5d0"
            ],
            [
             0.7,
             "#b8e186"
            ],
            [
             0.8,
             "#7fbc41"
            ],
            [
             0.9,
             "#4d9221"
            ],
            [
             1,
             "#276419"
            ]
           ],
           "sequential": [
            [
             0,
             "#0d0887"
            ],
            [
             0.1111111111111111,
             "#46039f"
            ],
            [
             0.2222222222222222,
             "#7201a8"
            ],
            [
             0.3333333333333333,
             "#9c179e"
            ],
            [
             0.4444444444444444,
             "#bd3786"
            ],
            [
             0.5555555555555556,
             "#d8576b"
            ],
            [
             0.6666666666666666,
             "#ed7953"
            ],
            [
             0.7777777777777778,
             "#fb9f3a"
            ],
            [
             0.8888888888888888,
             "#fdca26"
            ],
            [
             1,
             "#f0f921"
            ]
           ],
           "sequentialminus": [
            [
             0,
             "#0d0887"
            ],
            [
             0.1111111111111111,
             "#46039f"
            ],
            [
             0.2222222222222222,
             "#7201a8"
            ],
            [
             0.3333333333333333,
             "#9c179e"
            ],
            [
             0.4444444444444444,
             "#bd3786"
            ],
            [
             0.5555555555555556,
             "#d8576b"
            ],
            [
             0.6666666666666666,
             "#ed7953"
            ],
            [
             0.7777777777777778,
             "#fb9f3a"
            ],
            [
             0.8888888888888888,
             "#fdca26"
            ],
            [
             1,
             "#f0f921"
            ]
           ]
          },
          "colorway": [
           "#636efa",
           "#EF553B",
           "#00cc96",
           "#ab63fa",
           "#FFA15A",
           "#19d3f3",
           "#FF6692",
           "#B6E880",
           "#FF97FF",
           "#FECB52"
          ],
          "font": {
           "color": "#2a3f5f"
          },
          "geo": {
           "bgcolor": "white",
           "lakecolor": "white",
           "landcolor": "#E5ECF6",
           "showlakes": true,
           "showland": true,
           "subunitcolor": "white"
          },
          "hoverlabel": {
           "align": "left"
          },
          "hovermode": "closest",
          "mapbox": {
           "style": "light"
          },
          "paper_bgcolor": "white",
          "plot_bgcolor": "#E5ECF6",
          "polar": {
           "angularaxis": {
            "gridcolor": "white",
            "linecolor": "white",
            "ticks": ""
           },
           "bgcolor": "#E5ECF6",
           "radialaxis": {
            "gridcolor": "white",
            "linecolor": "white",
            "ticks": ""
           }
          },
          "scene": {
           "xaxis": {
            "backgroundcolor": "#E5ECF6",
            "gridcolor": "white",
            "gridwidth": 2,
            "linecolor": "white",
            "showbackground": true,
            "ticks": "",
            "zerolinecolor": "white"
           },
           "yaxis": {
            "backgroundcolor": "#E5ECF6",
            "gridcolor": "white",
            "gridwidth": 2,
            "linecolor": "white",
            "showbackground": true,
            "ticks": "",
            "zerolinecolor": "white"
           },
           "zaxis": {
            "backgroundcolor": "#E5ECF6",
            "gridcolor": "white",
            "gridwidth": 2,
            "linecolor": "white",
            "showbackground": true,
            "ticks": "",
            "zerolinecolor": "white"
           }
          },
          "shapedefaults": {
           "line": {
            "color": "#2a3f5f"
           }
          },
          "ternary": {
           "aaxis": {
            "gridcolor": "white",
            "linecolor": "white",
            "ticks": ""
           },
           "baxis": {
            "gridcolor": "white",
            "linecolor": "white",
            "ticks": ""
           },
           "bgcolor": "#E5ECF6",
           "caxis": {
            "gridcolor": "white",
            "linecolor": "white",
            "ticks": ""
           }
          },
          "title": {
           "x": 0.05
          },
          "xaxis": {
           "automargin": true,
           "gridcolor": "white",
           "linecolor": "white",
           "ticks": "",
           "title": {
            "standoff": 15
           },
           "zerolinecolor": "white",
           "zerolinewidth": 2
          },
          "yaxis": {
           "automargin": true,
           "gridcolor": "white",
           "linecolor": "white",
           "ticks": "",
           "title": {
            "standoff": 15
           },
           "zerolinecolor": "white",
           "zerolinewidth": 2
          }
         }
        }
       }
      }
     },
     "metadata": {},
     "output_type": "display_data"
    }
   ],
   "source": [
    "fig = px.scatter_3d(df,x='feature1',y='feature2',z='target')\n",
    "fig.show()"
   ]
  },
  {
   "cell_type": "code",
   "execution_count": 7,
   "metadata": {},
   "outputs": [],
   "source": [
    "from sklearn.model_selection import train_test_split\n",
    "X_train,X_test,Y_train,Y_test = train_test_split(X,Y,test_size=0.2,random_state=2)"
   ]
  },
  {
   "cell_type": "code",
   "execution_count": 8,
   "metadata": {},
   "outputs": [],
   "source": [
    "from sklearn.linear_model import LinearRegression"
   ]
  },
  {
   "cell_type": "code",
   "execution_count": 9,
   "metadata": {},
   "outputs": [],
   "source": [
    "lr = LinearRegression()"
   ]
  },
  {
   "cell_type": "code",
   "execution_count": 10,
   "metadata": {},
   "outputs": [
    {
     "data": {
      "text/html": [
       "<style>#sk-container-id-1 {color: black;background-color: white;}#sk-container-id-1 pre{padding: 0;}#sk-container-id-1 div.sk-toggleable {background-color: white;}#sk-container-id-1 label.sk-toggleable__label {cursor: pointer;display: block;width: 100%;margin-bottom: 0;padding: 0.3em;box-sizing: border-box;text-align: center;}#sk-container-id-1 label.sk-toggleable__label-arrow:before {content: \"▸\";float: left;margin-right: 0.25em;color: #696969;}#sk-container-id-1 label.sk-toggleable__label-arrow:hover:before {color: black;}#sk-container-id-1 div.sk-estimator:hover label.sk-toggleable__label-arrow:before {color: black;}#sk-container-id-1 div.sk-toggleable__content {max-height: 0;max-width: 0;overflow: hidden;text-align: left;background-color: #f0f8ff;}#sk-container-id-1 div.sk-toggleable__content pre {margin: 0.2em;color: black;border-radius: 0.25em;background-color: #f0f8ff;}#sk-container-id-1 input.sk-toggleable__control:checked~div.sk-toggleable__content {max-height: 200px;max-width: 100%;overflow: auto;}#sk-container-id-1 input.sk-toggleable__control:checked~label.sk-toggleable__label-arrow:before {content: \"▾\";}#sk-container-id-1 div.sk-estimator input.sk-toggleable__control:checked~label.sk-toggleable__label {background-color: #d4ebff;}#sk-container-id-1 div.sk-label input.sk-toggleable__control:checked~label.sk-toggleable__label {background-color: #d4ebff;}#sk-container-id-1 input.sk-hidden--visually {border: 0;clip: rect(1px 1px 1px 1px);clip: rect(1px, 1px, 1px, 1px);height: 1px;margin: -1px;overflow: hidden;padding: 0;position: absolute;width: 1px;}#sk-container-id-1 div.sk-estimator {font-family: monospace;background-color: #f0f8ff;border: 1px dotted black;border-radius: 0.25em;box-sizing: border-box;margin-bottom: 0.5em;}#sk-container-id-1 div.sk-estimator:hover {background-color: #d4ebff;}#sk-container-id-1 div.sk-parallel-item::after {content: \"\";width: 100%;border-bottom: 1px solid gray;flex-grow: 1;}#sk-container-id-1 div.sk-label:hover label.sk-toggleable__label {background-color: #d4ebff;}#sk-container-id-1 div.sk-serial::before {content: \"\";position: absolute;border-left: 1px solid gray;box-sizing: border-box;top: 0;bottom: 0;left: 50%;z-index: 0;}#sk-container-id-1 div.sk-serial {display: flex;flex-direction: column;align-items: center;background-color: white;padding-right: 0.2em;padding-left: 0.2em;position: relative;}#sk-container-id-1 div.sk-item {position: relative;z-index: 1;}#sk-container-id-1 div.sk-parallel {display: flex;align-items: stretch;justify-content: center;background-color: white;position: relative;}#sk-container-id-1 div.sk-item::before, #sk-container-id-1 div.sk-parallel-item::before {content: \"\";position: absolute;border-left: 1px solid gray;box-sizing: border-box;top: 0;bottom: 0;left: 50%;z-index: -1;}#sk-container-id-1 div.sk-parallel-item {display: flex;flex-direction: column;z-index: 1;position: relative;background-color: white;}#sk-container-id-1 div.sk-parallel-item:first-child::after {align-self: flex-end;width: 50%;}#sk-container-id-1 div.sk-parallel-item:last-child::after {align-self: flex-start;width: 50%;}#sk-container-id-1 div.sk-parallel-item:only-child::after {width: 0;}#sk-container-id-1 div.sk-dashed-wrapped {border: 1px dashed gray;margin: 0 0.4em 0.5em 0.4em;box-sizing: border-box;padding-bottom: 0.4em;background-color: white;}#sk-container-id-1 div.sk-label label {font-family: monospace;font-weight: bold;display: inline-block;line-height: 1.2em;}#sk-container-id-1 div.sk-label-container {text-align: center;}#sk-container-id-1 div.sk-container {/* jupyter's `normalize.less` sets `[hidden] { display: none; }` but bootstrap.min.css set `[hidden] { display: none !important; }` so we also need the `!important` here to be able to override the default hidden behavior on the sphinx rendered scikit-learn.org. See: https://github.com/scikit-learn/scikit-learn/issues/21755 */display: inline-block !important;position: relative;}#sk-container-id-1 div.sk-text-repr-fallback {display: none;}</style><div id=\"sk-container-id-1\" class=\"sk-top-container\"><div class=\"sk-text-repr-fallback\"><pre>LinearRegression()</pre><b>In a Jupyter environment, please rerun this cell to show the HTML representation or trust the notebook. <br />On GitHub, the HTML representation is unable to render, please try loading this page with nbviewer.org.</b></div><div class=\"sk-container\" hidden><div class=\"sk-item\"><div class=\"sk-estimator sk-toggleable\"><input class=\"sk-toggleable__control sk-hidden--visually\" id=\"sk-estimator-id-1\" type=\"checkbox\" checked><label for=\"sk-estimator-id-1\" class=\"sk-toggleable__label sk-toggleable__label-arrow\">LinearRegression</label><div class=\"sk-toggleable__content\"><pre>LinearRegression()</pre></div></div></div></div></div>"
      ],
      "text/plain": [
       "LinearRegression()"
      ]
     },
     "execution_count": 10,
     "metadata": {},
     "output_type": "execute_result"
    }
   ],
   "source": [
    "lr.fit(X_train,Y_train)"
   ]
  },
  {
   "cell_type": "code",
   "execution_count": 11,
   "metadata": {},
   "outputs": [],
   "source": [
    "Y_pred = lr.predict(X_test)"
   ]
  },
  {
   "cell_type": "code",
   "execution_count": 12,
   "metadata": {},
   "outputs": [
    {
     "name": "stdout",
     "output_type": "stream",
     "text": [
      "MAE 25.91676420134015\n",
      "MSE 922.4431897837821\n",
      "R2_Score 0.8811751294915672\n"
     ]
    }
   ],
   "source": [
    "print('MAE',mean_absolute_error(Y_test,Y_pred))\n",
    "print('MSE',mean_squared_error(Y_test,Y_pred))\n",
    "print('R2_Score',r2_score(Y_test,Y_pred))"
   ]
  },
  {
   "cell_type": "code",
   "execution_count": 21,
   "metadata": {},
   "outputs": [],
   "source": [
    "x = np.linspace(-5, 5, 10)\n",
    "y = np.linspace(-5, 5, 10)\n",
    "xGrid, yGrid = np.meshgrid(y,x)\n",
    "\n",
    "final = np.vstack((xGrid.ravel().reshape(1,100),yGrid.ravel().reshape(1,100))).T\n",
    "\n",
    "z_final = lr.predict(final).reshape(10,10)\n",
    "\n",
    "z = z_final\n"
   ]
  },
  {
   "cell_type": "code",
   "execution_count": 22,
   "metadata": {},
   "outputs": [
    {
     "data": {
      "application/vnd.plotly.v1+json": {
       "config": {
        "plotlyServerURL": "https://plot.ly"
       },
       "data": [
        {
         "hovertemplate": "feature1=%{x}<br>feature2=%{y}<br>target=%{z}<extra></extra>",
         "legendgroup": "",
         "marker": {
          "color": "#636efa",
          "symbol": "circle"
         },
         "mode": "markers",
         "name": "",
         "scene": "scene",
         "showlegend": false,
         "type": "scatter3d",
         "x": [
          -0.899519131179687,
          -0.18285840485100638,
          -0.41906256597518277,
          0.19875335619421655,
          -0.11614501413173126,
          -1.1084259547223576,
          -2.3205403035923737,
          0.21577979604428577,
          0.8479091957327475,
          -0.6009115593843207,
          -1.8144518885214698,
          -1.0967940216174932,
          2.6396283770677638,
          1.2297896865879099,
          -0.43485487613199403,
          -1.1338634665489364,
          0.5951872049316649,
          -0.5811819344965022,
          0.318966372157575,
          -1.3881575684207832,
          -0.5554110301534794,
          0.2380680113948226,
          1.871419829008991,
          0.21442162400763606,
          1.9394822372036442,
          0.023179856153328623,
          -0.35112493184234767,
          0.6774743921742069,
          -0.21468842049274275,
          -0.7837184733141802,
          -1.55280893822463,
          1.3196501358631407,
          0.8442767105274931,
          0.7098920422392596,
          -0.3334164089813225,
          0.3783344447339011,
          2.5113313536626567,
          0.268676065646879,
          2.5243712498438704,
          -0.4018294622269648,
          -1.2605062328083596,
          0.6017795150706607,
          -0.27439428182221776,
          0.3452146730069823,
          0.030917101742063798,
          0.943982541353672,
          1.3404403500509572,
          -0.7270650640349928,
          1.4443566824089726,
          0.23190940366844978,
          -0.19294397347144296,
          -0.8313621526332058,
          -0.6929343689946057,
          0.45994627363647783,
          -0.16213325644503868,
          0.46841221663351135,
          -0.26514373757788307,
          1.9755400531818605,
          0.5827808347763274,
          0.4997656121352898,
          -1.6741072876234404,
          -0.22864025217215256,
          0.4940529378817258,
          -0.7431134426258612,
          -1.8499063476012858,
          -2.0843397855347923,
          -0.26430519779602046,
          0.5119103246094223,
          0.4663701574283885,
          -0.04601721488487511,
          1.2992538286185376,
          0.9535432064304703,
          -0.0037590248479592403,
          -0.0814053757616865,
          -0.7076835910612047,
          -1.4500709252412833,
          -0.5682294262953188,
          0.6502013730301539,
          -0.8203052537214239,
          -1.5265721723561552,
          1.2073687131977426,
          -0.8078146579849088,
          -0.7158681536452702,
          0.25791833621213717,
          -0.17914559036288114,
          1.543524435022433,
          0.06342172268765366,
          -1.1274122220288538,
          -0.09362883491862432,
          -1.4012900148086052,
          2.1460051532039413,
          1.883666563223615,
          -0.022747129173397166,
          0.9837395652937183,
          0.3527730016403757,
          -0.7648200136308864,
          -1.3619556661534873,
          -0.48656287679344956,
          0.7697030988353997,
          -1.5447398005392106
         ],
         "y": [
          0.08664768260975755,
          0.6788032273596999,
          0.5671798582075994,
          0.8077190210944474,
          0.6428720359453426,
          -0.47785817350403437,
          0.2854553388563236,
          0.6418871296766888,
          0.31876843679799055,
          0.9814136211351513,
          0.18757568509515085,
          -0.25569217105938336,
          0.62285934004656,
          -0.2594167535830305,
          -0.8074764041246016,
          1.890746848795172,
          1.9373603512431896,
          1.0877609372046546,
          -0.5111498352580849,
          1.0270030325877795,
          -1.4009276733936502,
          1.7891328578439165,
          0.20849900430103138,
          -1.3283394452704271,
          -0.19412803680298774,
          -0.776635328424207,
          1.8261727680577995,
          0.6917260859732096,
          1.9832584465910104,
          -0.5482555653607675,
          0.9447533195297768,
          0.8728129722116539,
          0.2434903242322471,
          -0.6967200532530228,
          0.39287735054379613,
          0.22548730892793217,
          2.0166072406648565,
          -1.7406388267744441,
          -0.46024284975927576,
          -0.4307764504274123,
          -0.02893294224488914,
          -0.25818419627101835,
          -2.2818270439754804,
          1.0381933721643974,
          -0.38758701556921776,
          0.38512767155351824,
          0.6544684369443056,
          -1.2048672244846843,
          -1.5697658214839354,
          0.7232571771571539,
          0.33598213175989244,
          -1.9007591475236034,
          1.6724754367162054,
          -0.07941739502334182,
          -0.046870526653800794,
          -0.7242007512264206,
          1.1889460177843598,
          -1.165727361873498,
          -0.13905950219754948,
          0.2926542106942891,
          0.03320806026846351,
          0.6656905497396218,
          -1.3324785403697368,
          0.5405944695438621,
          -1.1019214461830238,
          -0.3061879069814928,
          -0.4597958268439907,
          -0.48736151366598635,
          -0.727428985913648,
          1.3121962900666322,
          -0.38563958660530134,
          0.807253864084005,
          -1.411329027553085,
          0.04356415928609336,
          -0.3126477433964824,
          -2.4399706558068286,
          0.44781158887444983,
          -1.165397791463098,
          0.08691840706512198,
          -0.37222346257586525,
          -0.11221165477374165,
          -1.033958043481278,
          0.8888137973979792,
          0.9199795888551899,
          0.10067417301509465,
          0.10500893740544477,
          -0.8734621933707475,
          -0.928280926138754,
          -0.06526474947610934,
          0.9061996326777704,
          -1.1656391050917125,
          0.18377344229816422,
          -0.6531074779546509,
          0.007782175324857585,
          -1.719124670319954,
          1.6065750296009362,
          0.09666081592060348,
          1.1590327163882264,
          0.03418581931929378,
          0.37980504215050015
         ],
         "z": [
          -77.57574875662134,
          4.557543711999707,
          -47.29396877234282,
          69.48289544009629,
          -55.33106207080122,
          -102.52248141387113,
          -243.06719060025677,
          68.41823804899064,
          127.40074904090557,
          -91.57451970416034,
          -48.26683829282341,
          -123.00456534086806,
          247.3034541997395,
          111.35239675923047,
          -11.365299200408387,
          -11.012930100871078,
          85.72019090995576,
          5.544842491366765,
          -51.237456135858494,
          -102.16937962868002,
          -63.58592714014744,
          103.14358472764395,
          142.89369102159472,
          48.733182704354064,
          190.75178563758166,
          -2.978948505520858,
          -76.68672236887778,
          105.66584362330232,
          -1.2610853688706243,
          -36.633555732795216,
          -113.47709613626206,
          107.0498897188726,
          109.61271277006153,
          -73.34386650946081,
          -70.70291350881692,
          16.194925786250813,
          256.4182182558741,
          -2.8888721408617144,
          223.52229247544315,
          38.89337431425122,
          -63.605454757148564,
          63.246342451921194,
          -39.93314278314688,
          166.68087732525703,
          -23.022261605449522,
          105.91390466039128,
          135.59663225888883,
          -69.84353112434967,
          48.72687364353411,
          55.61217110994606,
          -108.37427092077832,
          -26.611097736979076,
          42.39630210475897,
          -2.3827008324735317,
          34.51511824716765,
          -15.451260822905002,
          -20.002711212669205,
          244.79822446348723,
          -45.065540486019984,
          128.20782837182892,
          -109.3431137156484,
          54.30664452301348,
          -37.32845083749397,
          -0.01839178817537146,
          -303.2157274158051,
          -197.50353758277194,
          -10.11275414722229,
          85.16775803237192,
          81.40284429452231,
          72.68437198997151,
          142.59108719235235,
          80.29112046226352,
          -35.540804026722036,
          79.73158773738919,
          -152.90268268610154,
          -295.09298290370214,
          -53.49837230125494,
          88.38276546180019,
          -90.93682972987396,
          -156.89210802024095,
          105.49935411928305,
          -115.04732477673797,
          5.85074861380788,
          67.05876389078719,
          -58.76370798610223,
          106.0844772841749,
          16.604588839728432,
          -106.69632375667331,
          7.489880911564242,
          -79.49624938313168,
          253.819774183967,
          133.04386840632893,
          -0.6086644862670809,
          14.183961821999418,
          -39.187726897927455,
          26.97645476112707,
          -31.554249616095092,
          -68.84111439053645,
          31.850237552324863,
          -119.01416843550479
         ]
        },
        {
         "type": "surface",
         "x": [
          -5,
          -3.888888888888889,
          -2.7777777777777777,
          -1.6666666666666665,
          -0.5555555555555554,
          0.5555555555555554,
          1.666666666666667,
          2.7777777777777786,
          3.8888888888888893,
          5
         ],
         "y": [
          -5,
          -3.888888888888889,
          -2.7777777777777777,
          -1.6666666666666665,
          -0.5555555555555554,
          0.5555555555555554,
          1.666666666666667,
          2.7777777777777786,
          3.8888888888888893,
          5
         ],
         "z": [
          [
           -565.698435169206,
           -468.5783519689756,
           -371.4582687687451,
           -274.33818556851463,
           -177.21810236828418,
           -80.09801916805372,
           17.022064032176793,
           114.1421472324073,
           211.26223043263772,
           308.38231363286815
          ],
          [
           -536.3868977004286,
           -439.26681450019817,
           -342.1467312999677,
           -245.02664809973723,
           -147.90656489950678,
           -50.78648169927632,
           46.333601500954195,
           143.4536847011847,
           240.57376790141512,
           337.6938511016456
          ],
          [
           -507.0753602316513,
           -409.9552770314208,
           -312.83519383119034,
           -215.71511063095983,
           -118.59502743072937,
           -21.474944230498934,
           75.64513896973158,
           172.7652221699621,
           269.8853053701925,
           367.00538857042295
          ],
          [
           -477.7638227628739,
           -380.64373956264336,
           -283.5236563624129,
           -186.40357316218245,
           -89.28348996195199,
           7.83659323827846,
           104.95667643850896,
           202.07675963873947,
           299.1968428389699,
           396.3169260392004
          ],
          [
           -448.4522852940965,
           -351.332202093866,
           -254.21211889363553,
           -157.09203569340505,
           -59.97195249317459,
           37.14813070705585,
           134.26821390728637,
           231.38829710751688,
           328.5083803077473,
           425.62846350797776
          ],
          [
           -419.1407478253191,
           -322.0206646250886,
           -224.90058142485816,
           -127.78049822462768,
           -30.660415024397203,
           66.45966817583323,
           163.57975137606374,
           260.6998345762943,
           357.8199177765247,
           454.94000097675513
          ],
          [
           -389.8292103565417,
           -292.7091271563112,
           -195.58904395608076,
           -98.46896075585028,
           -1.3488775556198016,
           95.77120564461063,
           192.89128884484114,
           290.01137204507165,
           387.1314552453021,
           484.25153844553256
          ],
          [
           -360.5176728877643,
           -263.3975896875338,
           -166.27750648730336,
           -69.15742328707287,
           27.962659913157594,
           125.08274311338803,
           222.20282631361854,
           319.3229095138491,
           416.4429927140795,
           513.5630759143099
          ],
          [
           -331.20613541898695,
           -234.08605221875644,
           -136.96596901852598,
           -39.84588581829548,
           57.27419738193498,
           154.3942805821654,
           251.51436378239595,
           348.63444698262646,
           445.75453018285685,
           542.8746133830874
          ],
          [
           -301.8945979502095,
           -204.77451474997903,
           -107.65443154974858,
           -10.53434834951809,
           86.58573485071236,
           183.7058180509428,
           280.8259012511733,
           377.94598445140383,
           475.0660676516342,
           572.1861508518648
          ]
         ]
        }
       ],
       "layout": {
        "legend": {
         "tracegroupgap": 0
        },
        "margin": {
         "t": 60
        },
        "scene": {
         "domain": {
          "x": [
           0,
           1
          ],
          "y": [
           0,
           1
          ]
         },
         "xaxis": {
          "title": {
           "text": "feature1"
          }
         },
         "yaxis": {
          "title": {
           "text": "feature2"
          }
         },
         "zaxis": {
          "title": {
           "text": "target"
          }
         }
        },
        "template": {
         "data": {
          "bar": [
           {
            "error_x": {
             "color": "#2a3f5f"
            },
            "error_y": {
             "color": "#2a3f5f"
            },
            "marker": {
             "line": {
              "color": "#E5ECF6",
              "width": 0.5
             },
             "pattern": {
              "fillmode": "overlay",
              "size": 10,
              "solidity": 0.2
             }
            },
            "type": "bar"
           }
          ],
          "barpolar": [
           {
            "marker": {
             "line": {
              "color": "#E5ECF6",
              "width": 0.5
             },
             "pattern": {
              "fillmode": "overlay",
              "size": 10,
              "solidity": 0.2
             }
            },
            "type": "barpolar"
           }
          ],
          "carpet": [
           {
            "aaxis": {
             "endlinecolor": "#2a3f5f",
             "gridcolor": "white",
             "linecolor": "white",
             "minorgridcolor": "white",
             "startlinecolor": "#2a3f5f"
            },
            "baxis": {
             "endlinecolor": "#2a3f5f",
             "gridcolor": "white",
             "linecolor": "white",
             "minorgridcolor": "white",
             "startlinecolor": "#2a3f5f"
            },
            "type": "carpet"
           }
          ],
          "choropleth": [
           {
            "colorbar": {
             "outlinewidth": 0,
             "ticks": ""
            },
            "type": "choropleth"
           }
          ],
          "contour": [
           {
            "colorbar": {
             "outlinewidth": 0,
             "ticks": ""
            },
            "colorscale": [
             [
              0,
              "#0d0887"
             ],
             [
              0.1111111111111111,
              "#46039f"
             ],
             [
              0.2222222222222222,
              "#7201a8"
             ],
             [
              0.3333333333333333,
              "#9c179e"
             ],
             [
              0.4444444444444444,
              "#bd3786"
             ],
             [
              0.5555555555555556,
              "#d8576b"
             ],
             [
              0.6666666666666666,
              "#ed7953"
             ],
             [
              0.7777777777777778,
              "#fb9f3a"
             ],
             [
              0.8888888888888888,
              "#fdca26"
             ],
             [
              1,
              "#f0f921"
             ]
            ],
            "type": "contour"
           }
          ],
          "contourcarpet": [
           {
            "colorbar": {
             "outlinewidth": 0,
             "ticks": ""
            },
            "type": "contourcarpet"
           }
          ],
          "heatmap": [
           {
            "colorbar": {
             "outlinewidth": 0,
             "ticks": ""
            },
            "colorscale": [
             [
              0,
              "#0d0887"
             ],
             [
              0.1111111111111111,
              "#46039f"
             ],
             [
              0.2222222222222222,
              "#7201a8"
             ],
             [
              0.3333333333333333,
              "#9c179e"
             ],
             [
              0.4444444444444444,
              "#bd3786"
             ],
             [
              0.5555555555555556,
              "#d8576b"
             ],
             [
              0.6666666666666666,
              "#ed7953"
             ],
             [
              0.7777777777777778,
              "#fb9f3a"
             ],
             [
              0.8888888888888888,
              "#fdca26"
             ],
             [
              1,
              "#f0f921"
             ]
            ],
            "type": "heatmap"
           }
          ],
          "heatmapgl": [
           {
            "colorbar": {
             "outlinewidth": 0,
             "ticks": ""
            },
            "colorscale": [
             [
              0,
              "#0d0887"
             ],
             [
              0.1111111111111111,
              "#46039f"
             ],
             [
              0.2222222222222222,
              "#7201a8"
             ],
             [
              0.3333333333333333,
              "#9c179e"
             ],
             [
              0.4444444444444444,
              "#bd3786"
             ],
             [
              0.5555555555555556,
              "#d8576b"
             ],
             [
              0.6666666666666666,
              "#ed7953"
             ],
             [
              0.7777777777777778,
              "#fb9f3a"
             ],
             [
              0.8888888888888888,
              "#fdca26"
             ],
             [
              1,
              "#f0f921"
             ]
            ],
            "type": "heatmapgl"
           }
          ],
          "histogram": [
           {
            "marker": {
             "pattern": {
              "fillmode": "overlay",
              "size": 10,
              "solidity": 0.2
             }
            },
            "type": "histogram"
           }
          ],
          "histogram2d": [
           {
            "colorbar": {
             "outlinewidth": 0,
             "ticks": ""
            },
            "colorscale": [
             [
              0,
              "#0d0887"
             ],
             [
              0.1111111111111111,
              "#46039f"
             ],
             [
              0.2222222222222222,
              "#7201a8"
             ],
             [
              0.3333333333333333,
              "#9c179e"
             ],
             [
              0.4444444444444444,
              "#bd3786"
             ],
             [
              0.5555555555555556,
              "#d8576b"
             ],
             [
              0.6666666666666666,
              "#ed7953"
             ],
             [
              0.7777777777777778,
              "#fb9f3a"
             ],
             [
              0.8888888888888888,
              "#fdca26"
             ],
             [
              1,
              "#f0f921"
             ]
            ],
            "type": "histogram2d"
           }
          ],
          "histogram2dcontour": [
           {
            "colorbar": {
             "outlinewidth": 0,
             "ticks": ""
            },
            "colorscale": [
             [
              0,
              "#0d0887"
             ],
             [
              0.1111111111111111,
              "#46039f"
             ],
             [
              0.2222222222222222,
              "#7201a8"
             ],
             [
              0.3333333333333333,
              "#9c179e"
             ],
             [
              0.4444444444444444,
              "#bd3786"
             ],
             [
              0.5555555555555556,
              "#d8576b"
             ],
             [
              0.6666666666666666,
              "#ed7953"
             ],
             [
              0.7777777777777778,
              "#fb9f3a"
             ],
             [
              0.8888888888888888,
              "#fdca26"
             ],
             [
              1,
              "#f0f921"
             ]
            ],
            "type": "histogram2dcontour"
           }
          ],
          "mesh3d": [
           {
            "colorbar": {
             "outlinewidth": 0,
             "ticks": ""
            },
            "type": "mesh3d"
           }
          ],
          "parcoords": [
           {
            "line": {
             "colorbar": {
              "outlinewidth": 0,
              "ticks": ""
             }
            },
            "type": "parcoords"
           }
          ],
          "pie": [
           {
            "automargin": true,
            "type": "pie"
           }
          ],
          "scatter": [
           {
            "fillpattern": {
             "fillmode": "overlay",
             "size": 10,
             "solidity": 0.2
            },
            "type": "scatter"
           }
          ],
          "scatter3d": [
           {
            "line": {
             "colorbar": {
              "outlinewidth": 0,
              "ticks": ""
             }
            },
            "marker": {
             "colorbar": {
              "outlinewidth": 0,
              "ticks": ""
             }
            },
            "type": "scatter3d"
           }
          ],
          "scattercarpet": [
           {
            "marker": {
             "colorbar": {
              "outlinewidth": 0,
              "ticks": ""
             }
            },
            "type": "scattercarpet"
           }
          ],
          "scattergeo": [
           {
            "marker": {
             "colorbar": {
              "outlinewidth": 0,
              "ticks": ""
             }
            },
            "type": "scattergeo"
           }
          ],
          "scattergl": [
           {
            "marker": {
             "colorbar": {
              "outlinewidth": 0,
              "ticks": ""
             }
            },
            "type": "scattergl"
           }
          ],
          "scattermapbox": [
           {
            "marker": {
             "colorbar": {
              "outlinewidth": 0,
              "ticks": ""
             }
            },
            "type": "scattermapbox"
           }
          ],
          "scatterpolar": [
           {
            "marker": {
             "colorbar": {
              "outlinewidth": 0,
              "ticks": ""
             }
            },
            "type": "scatterpolar"
           }
          ],
          "scatterpolargl": [
           {
            "marker": {
             "colorbar": {
              "outlinewidth": 0,
              "ticks": ""
             }
            },
            "type": "scatterpolargl"
           }
          ],
          "scatterternary": [
           {
            "marker": {
             "colorbar": {
              "outlinewidth": 0,
              "ticks": ""
             }
            },
            "type": "scatterternary"
           }
          ],
          "surface": [
           {
            "colorbar": {
             "outlinewidth": 0,
             "ticks": ""
            },
            "colorscale": [
             [
              0,
              "#0d0887"
             ],
             [
              0.1111111111111111,
              "#46039f"
             ],
             [
              0.2222222222222222,
              "#7201a8"
             ],
             [
              0.3333333333333333,
              "#9c179e"
             ],
             [
              0.4444444444444444,
              "#bd3786"
             ],
             [
              0.5555555555555556,
              "#d8576b"
             ],
             [
              0.6666666666666666,
              "#ed7953"
             ],
             [
              0.7777777777777778,
              "#fb9f3a"
             ],
             [
              0.8888888888888888,
              "#fdca26"
             ],
             [
              1,
              "#f0f921"
             ]
            ],
            "type": "surface"
           }
          ],
          "table": [
           {
            "cells": {
             "fill": {
              "color": "#EBF0F8"
             },
             "line": {
              "color": "white"
             }
            },
            "header": {
             "fill": {
              "color": "#C8D4E3"
             },
             "line": {
              "color": "white"
             }
            },
            "type": "table"
           }
          ]
         },
         "layout": {
          "annotationdefaults": {
           "arrowcolor": "#2a3f5f",
           "arrowhead": 0,
           "arrowwidth": 1
          },
          "autotypenumbers": "strict",
          "coloraxis": {
           "colorbar": {
            "outlinewidth": 0,
            "ticks": ""
           }
          },
          "colorscale": {
           "diverging": [
            [
             0,
             "#8e0152"
            ],
            [
             0.1,
             "#c51b7d"
            ],
            [
             0.2,
             "#de77ae"
            ],
            [
             0.3,
             "#f1b6da"
            ],
            [
             0.4,
             "#fde0ef"
            ],
            [
             0.5,
             "#f7f7f7"
            ],
            [
             0.6,
             "#e6f5d0"
            ],
            [
             0.7,
             "#b8e186"
            ],
            [
             0.8,
             "#7fbc41"
            ],
            [
             0.9,
             "#4d9221"
            ],
            [
             1,
             "#276419"
            ]
           ],
           "sequential": [
            [
             0,
             "#0d0887"
            ],
            [
             0.1111111111111111,
             "#46039f"
            ],
            [
             0.2222222222222222,
             "#7201a8"
            ],
            [
             0.3333333333333333,
             "#9c179e"
            ],
            [
             0.4444444444444444,
             "#bd3786"
            ],
            [
             0.5555555555555556,
             "#d8576b"
            ],
            [
             0.6666666666666666,
             "#ed7953"
            ],
            [
             0.7777777777777778,
             "#fb9f3a"
            ],
            [
             0.8888888888888888,
             "#fdca26"
            ],
            [
             1,
             "#f0f921"
            ]
           ],
           "sequentialminus": [
            [
             0,
             "#0d0887"
            ],
            [
             0.1111111111111111,
             "#46039f"
            ],
            [
             0.2222222222222222,
             "#7201a8"
            ],
            [
             0.3333333333333333,
             "#9c179e"
            ],
            [
             0.4444444444444444,
             "#bd3786"
            ],
            [
             0.5555555555555556,
             "#d8576b"
            ],
            [
             0.6666666666666666,
             "#ed7953"
            ],
            [
             0.7777777777777778,
             "#fb9f3a"
            ],
            [
             0.8888888888888888,
             "#fdca26"
            ],
            [
             1,
             "#f0f921"
            ]
           ]
          },
          "colorway": [
           "#636efa",
           "#EF553B",
           "#00cc96",
           "#ab63fa",
           "#FFA15A",
           "#19d3f3",
           "#FF6692",
           "#B6E880",
           "#FF97FF",
           "#FECB52"
          ],
          "font": {
           "color": "#2a3f5f"
          },
          "geo": {
           "bgcolor": "white",
           "lakecolor": "white",
           "landcolor": "#E5ECF6",
           "showlakes": true,
           "showland": true,
           "subunitcolor": "white"
          },
          "hoverlabel": {
           "align": "left"
          },
          "hovermode": "closest",
          "mapbox": {
           "style": "light"
          },
          "paper_bgcolor": "white",
          "plot_bgcolor": "#E5ECF6",
          "polar": {
           "angularaxis": {
            "gridcolor": "white",
            "linecolor": "white",
            "ticks": ""
           },
           "bgcolor": "#E5ECF6",
           "radialaxis": {
            "gridcolor": "white",
            "linecolor": "white",
            "ticks": ""
           }
          },
          "scene": {
           "xaxis": {
            "backgroundcolor": "#E5ECF6",
            "gridcolor": "white",
            "gridwidth": 2,
            "linecolor": "white",
            "showbackground": true,
            "ticks": "",
            "zerolinecolor": "white"
           },
           "yaxis": {
            "backgroundcolor": "#E5ECF6",
            "gridcolor": "white",
            "gridwidth": 2,
            "linecolor": "white",
            "showbackground": true,
            "ticks": "",
            "zerolinecolor": "white"
           },
           "zaxis": {
            "backgroundcolor": "#E5ECF6",
            "gridcolor": "white",
            "gridwidth": 2,
            "linecolor": "white",
            "showbackground": true,
            "ticks": "",
            "zerolinecolor": "white"
           }
          },
          "shapedefaults": {
           "line": {
            "color": "#2a3f5f"
           }
          },
          "ternary": {
           "aaxis": {
            "gridcolor": "white",
            "linecolor": "white",
            "ticks": ""
           },
           "baxis": {
            "gridcolor": "white",
            "linecolor": "white",
            "ticks": ""
           },
           "bgcolor": "#E5ECF6",
           "caxis": {
            "gridcolor": "white",
            "linecolor": "white",
            "ticks": ""
           }
          },
          "title": {
           "x": 0.05
          },
          "xaxis": {
           "automargin": true,
           "gridcolor": "white",
           "linecolor": "white",
           "ticks": "",
           "title": {
            "standoff": 15
           },
           "zerolinecolor": "white",
           "zerolinewidth": 2
          },
          "yaxis": {
           "automargin": true,
           "gridcolor": "white",
           "linecolor": "white",
           "ticks": "",
           "title": {
            "standoff": 15
           },
           "zerolinecolor": "white",
           "zerolinewidth": 2
          }
         }
        }
       }
      }
     },
     "metadata": {},
     "output_type": "display_data"
    }
   ],
   "source": [
    "fig = px.scatter_3d(df,x='feature1',y='feature2',z='target')\n",
    "\n",
    "fig.add_trace(go.Surface(x=x,y=y,z=z))\n",
    "\n",
    "fig.show()"
   ]
  },
  {
   "cell_type": "code",
   "execution_count": 23,
   "metadata": {},
   "outputs": [
    {
     "data": {
      "text/plain": [
       "array([87.40807488, 26.38038372])"
      ]
     },
     "execution_count": 23,
     "metadata": {},
     "output_type": "execute_result"
    }
   ],
   "source": [
    "lr.coef_ #{beta_1,beta_2}"
   ]
  },
  {
   "cell_type": "code",
   "execution_count": 24,
   "metadata": {},
   "outputs": [
    {
     "data": {
      "text/plain": [
       "3.243857841329322"
      ]
     },
     "execution_count": 24,
     "metadata": {},
     "output_type": "execute_result"
    }
   ],
   "source": [
    "lr.intercept_"
   ]
  },
  {
   "cell_type": "code",
   "execution_count": null,
   "metadata": {},
   "outputs": [],
   "source": []
  }
 ],
 "metadata": {
  "kernelspec": {
   "display_name": "Python 3",
   "language": "python",
   "name": "python3"
  },
  "language_info": {
   "codemirror_mode": {
    "name": "ipython",
    "version": 3
   },
   "file_extension": ".py",
   "mimetype": "text/x-python",
   "name": "python",
   "nbconvert_exporter": "python",
   "pygments_lexer": "ipython3",
   "version": "3.10.6"
  },
  "orig_nbformat": 4
 },
 "nbformat": 4,
 "nbformat_minor": 2
}
